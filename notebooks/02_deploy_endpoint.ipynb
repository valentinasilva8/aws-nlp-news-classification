{
 "cells": [
  {
   "cell_type": "code",
   "execution_count": 2,
   "id": "31c3a631-c0cb-41fb-a206-aa59efeb3a9b",
   "metadata": {
    "execution": {
     "iopub.execute_input": "2025-08-28T01:30:49.610289Z",
     "iopub.status.busy": "2025-08-28T01:30:49.609884Z",
     "iopub.status.idle": "2025-08-28T01:30:51.292788Z",
     "shell.execute_reply": "2025-08-28T01:30:51.291979Z",
     "shell.execute_reply.started": "2025-08-28T01:30:49.610250Z"
    }
   },
   "outputs": [
    {
     "name": "stdout",
     "output_type": "stream",
     "text": [
      "Requirement already satisfied: transformers in /opt/conda/lib/python3.12/site-packages (4.55.2)\n",
      "Requirement already satisfied: filelock in /opt/conda/lib/python3.12/site-packages (from transformers) (3.19.1)\n",
      "Requirement already satisfied: huggingface-hub<1.0,>=0.34.0 in /opt/conda/lib/python3.12/site-packages (from transformers) (0.34.4)\n",
      "Requirement already satisfied: numpy>=1.17 in /opt/conda/lib/python3.12/site-packages (from transformers) (1.26.4)\n",
      "Requirement already satisfied: packaging>=20.0 in /opt/conda/lib/python3.12/site-packages (from transformers) (24.2)\n",
      "Requirement already satisfied: pyyaml>=5.1 in /opt/conda/lib/python3.12/site-packages (from transformers) (6.0.2)\n",
      "Requirement already satisfied: regex!=2019.12.17 in /opt/conda/lib/python3.12/site-packages (from transformers) (2025.7.34)\n",
      "Requirement already satisfied: requests in /opt/conda/lib/python3.12/site-packages (from transformers) (2.32.4)\n",
      "Requirement already satisfied: tokenizers<0.22,>=0.21 in /opt/conda/lib/python3.12/site-packages (from transformers) (0.21.4)\n",
      "Requirement already satisfied: safetensors>=0.4.3 in /opt/conda/lib/python3.12/site-packages (from transformers) (0.6.2)\n",
      "Requirement already satisfied: tqdm>=4.27 in /opt/conda/lib/python3.12/site-packages (from transformers) (4.67.1)\n",
      "Requirement already satisfied: fsspec>=2023.5.0 in /opt/conda/lib/python3.12/site-packages (from huggingface-hub<1.0,>=0.34.0->transformers) (2024.12.0)\n",
      "Requirement already satisfied: hf-xet<2.0.0,>=1.1.3 in /opt/conda/lib/python3.12/site-packages (from huggingface-hub<1.0,>=0.34.0->transformers) (1.1.7)\n",
      "Requirement already satisfied: typing-extensions>=3.7.4.3 in /opt/conda/lib/python3.12/site-packages (from huggingface-hub<1.0,>=0.34.0->transformers) (4.14.1)\n",
      "Requirement already satisfied: charset_normalizer<4,>=2 in /opt/conda/lib/python3.12/site-packages (from requests->transformers) (3.4.3)\n",
      "Requirement already satisfied: idna<4,>=2.5 in /opt/conda/lib/python3.12/site-packages (from requests->transformers) (3.10)\n",
      "Requirement already satisfied: urllib3<3,>=1.21.1 in /opt/conda/lib/python3.12/site-packages (from requests->transformers) (1.26.19)\n",
      "Requirement already satisfied: certifi>=2017.4.17 in /opt/conda/lib/python3.12/site-packages (from requests->transformers) (2025.8.3)\n"
     ]
    }
   ],
   "source": [
    "!pip install transformers"
   ]
  },
  {
   "cell_type": "code",
   "execution_count": 3,
   "id": "a45f4b62-ceba-43af-ac97-6e5ccb7c2f24",
   "metadata": {
    "execution": {
     "iopub.execute_input": "2025-08-28T01:30:51.294286Z",
     "iopub.status.busy": "2025-08-28T01:30:51.293910Z",
     "iopub.status.idle": "2025-08-28T01:30:54.045268Z",
     "shell.execute_reply": "2025-08-28T01:30:54.044584Z",
     "shell.execute_reply.started": "2025-08-28T01:30:51.294261Z"
    }
   },
   "outputs": [
    {
     "name": "stdout",
     "output_type": "stream",
     "text": [
      "sagemaker.config INFO - Not applying SDK defaults from location: /etc/xdg/sagemaker/config.yaml\n",
      "sagemaker.config INFO - Not applying SDK defaults from location: /home/sagemaker-user/.config/sagemaker/config.yaml\n"
     ]
    }
   ],
   "source": [
    "from sagemaker.huggingface import HuggingFaceModel\n",
    "from sagemaker import get_execution_role\n",
    "\n",
    "role = get_execution_role()\n",
    "\n",
    "model_s3_path = 's3://sagemaker-us-east-2-442042551758/hf-output/huggingface-pytorch-training-2025-08-27-13-52-34-791/output/model.tar.gz'\n",
    "huggingface_model = HuggingFaceModel(\n",
    "\n",
    "    model_data = model_s3_path,\n",
    "    role = role,\n",
    "    transformers_version = \"4.6.1\",\n",
    "    pytorch_version = \"1.8.1\",\n",
    "    py_version = \"py36\", \n",
    "    entry_point = \"inference.py\",\n",
    "    name = \"model-for-deployment\"\n",
    "    \n",
    ")"
   ]
  },
  {
   "cell_type": "code",
   "execution_count": null,
   "id": "d43c6c62-0f15-4692-85d3-7552f511202c",
   "metadata": {
    "execution": {
     "execution_failed": "2025-08-28T02:45:02.689Z",
     "iopub.execute_input": "2025-08-28T01:30:54.046640Z",
     "iopub.status.busy": "2025-08-28T01:30:54.046414Z",
     "iopub.status.idle": "2025-08-28T01:34:15.227264Z"
    }
   },
   "outputs": [
    {
     "name": "stderr",
     "output_type": "stream",
     "text": [
      "Using already existing model: model-for-deployment\n"
     ]
    },
    {
     "name": "stdout",
     "output_type": "stream",
     "text": [
      "-----!"
     ]
    }
   ],
   "source": [
    "predictor = huggingface_model.deploy(\n",
    "    initial_instance_count = 1,\n",
    "    instance_type = \"ml.m5.xlarge\",\n",
    "    endpoint_name = \"multiclass-text-classification-endpointv4\"\n",
    ")"
   ]
  },
  {
   "cell_type": "code",
   "execution_count": null,
   "id": "4d118103-cba5-41c7-b24f-a090412aaced",
   "metadata": {
    "execution": {
     "execution_failed": "2025-08-28T02:45:02.689Z",
     "iopub.execute_input": "2025-08-28T01:34:15.229252Z",
     "iopub.status.busy": "2025-08-28T01:34:15.228873Z",
     "iopub.status.idle": "2025-08-28T01:34:15.234371Z"
    }
   },
   "outputs": [],
   "source": [
    "data = {\"inputs\": \"The star wars movie is out\"}"
   ]
  },
  {
   "cell_type": "code",
   "execution_count": null,
   "id": "aa5b5246-e7cd-4069-9644-a063d4dff9f7",
   "metadata": {
    "execution": {
     "execution_failed": "2025-08-28T02:45:02.690Z",
     "iopub.execute_input": "2025-08-28T01:34:15.237239Z",
     "iopub.status.busy": "2025-08-28T01:34:15.236956Z",
     "iopub.status.idle": "2025-08-28T01:34:15.829696Z"
    }
   },
   "outputs": [],
   "source": [
    "prediction = predictor.predict(data)"
   ]
  },
  {
   "cell_type": "code",
   "execution_count": null,
   "id": "0f717b89-f63f-4469-9438-e7a9b2cb2c70",
   "metadata": {
    "execution": {
     "execution_failed": "2025-08-28T02:45:02.690Z",
     "iopub.execute_input": "2025-08-28T01:34:15.832419Z",
     "iopub.status.busy": "2025-08-28T01:34:15.832255Z",
     "iopub.status.idle": "2025-08-28T01:34:15.838293Z"
    }
   },
   "outputs": [
    {
     "data": {
      "text/plain": [
       "['{\"predicted_label\": \"Entertainment\", \"probabilities\": [[0.0010863463394343853, 0.0005743292276747525, 0.9979604482650757, 0.00037895372952334583]]}',\n",
       " 'application/json']"
      ]
     },
     "execution_count": 7,
     "metadata": {},
     "output_type": "execute_result"
    }
   ],
   "source": [
    "prediction"
   ]
  },
  {
   "cell_type": "code",
   "execution_count": null,
   "id": "4e816a9d-b7a8-42b8-9a5f-62edcf86fc8e",
   "metadata": {
    "execution": {
     "execution_failed": "2025-08-28T02:45:02.690Z",
     "iopub.execute_input": "2025-08-28T01:34:15.841295Z",
     "iopub.status.busy": "2025-08-28T01:34:15.840963Z",
     "iopub.status.idle": "2025-08-28T01:34:15.843940Z"
    }
   },
   "outputs": [],
   "source": [
    "#class_names = [\"Business\", \"Science\", \"Entertainment\", \"Health\"]"
   ]
  },
  {
   "cell_type": "code",
   "execution_count": null,
   "id": "499fbd30-0712-46df-918d-e0e91f826ac3",
   "metadata": {},
   "outputs": [],
   "source": []
  }
 ],
 "metadata": {
  "kernelspec": {
   "display_name": "Python 3 (ipykernel)",
   "language": "python",
   "name": "python3"
  },
  "language_info": {
   "codemirror_mode": {
    "name": "ipython",
    "version": 3
   },
   "file_extension": ".py",
   "mimetype": "text/x-python",
   "name": "python",
   "nbconvert_exporter": "python",
   "pygments_lexer": "ipython3",
   "version": "3.12.9"
  }
 },
 "nbformat": 4,
 "nbformat_minor": 5
}
